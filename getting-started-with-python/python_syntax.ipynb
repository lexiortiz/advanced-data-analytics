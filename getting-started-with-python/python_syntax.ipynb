{
  "nbformat": 4,
  "nbformat_minor": 0,
  "metadata": {
    "colab": {
      "provenance": [],
      "toc_visible": true,
      "authorship_tag": "ABX9TyNwD9dvGAUtrBOU6s2X8Jwt"
    },
    "kernelspec": {
      "name": "python3",
      "display_name": "Python 3"
    },
    "language_info": {
      "name": "python"
    }
  },
  "cells": [
    {
      "cell_type": "markdown",
      "source": [
        "# Explore Python syntax\n",
        "Python is a flexible programming language used in a wide range of fields, including software development, machine learning, and data analysis. Python is one of the most popular programming languages for data professionals, so getting familiar with its fundamental syntax and semantics will be useful for your future career. In this reading, you will learn about Python’s syntax and semantics, as well as where to find resources to further your learning.\n",
        "\n",
        "## The Language of Python\n",
        "People use language to communicate and give instructions to each other. Computers do the same thing, except computers use languages like Python, C++, and Java. So, in order to communicate instructions to the computer, programmers need to arrange ideas and concepts into a language it will understand.\n",
        "\n",
        "Python syntax includes words that represent objects and commands, as well as punctuation that gives the words structure, hierarchy, and context. Together, the words and punctuation communicate ideas and processes; this is known as semantics. Semantics is the meaning conveyed by the syntax. The best way to learn syntax and semantics is through exposure. Practice coding and become familiar and comfortable with reading other people’s code. In addition, there are some general conventions that practitioners use to help maintain stylistic uniformity within the language.\n",
        "\n",
        "Coding languages are similar to spoken languages in that they have a way to classify words according to their function. For example, English sentences are composed of nouns, verbs, prepositions, etc.\n",
        "\n",
        "### Here are some of the basics:\n",
        "\n",
        "- Variables: Represent data stored as strings, tuples, dictionaries, lists, and objects (note: future readings explain these categories)\n",
        "\n",
        "Example: `student_name`\n",
        "\n",
        "\n",
        "- Keywords: Special words that are reserved for specific purposes and that can only be used for those purposes\n",
        "\n",
        "Examples:\n",
        "\n",
        "`in`\n",
        "\n",
        "`not`\n",
        "\n",
        "`or`\n",
        "\n",
        "`for`\n",
        "\n",
        "`while`\n",
        "\n",
        "`return`\n",
        "\n",
        "\n",
        "- Operators: Symbols that perform operations on objects and values\n",
        "\n",
        "Examples:\n",
        "\n",
        "`+`    Addition\n",
        "\n",
        "`-`     Subtraction\n",
        "\n",
        "`*`     Multiplication\n",
        "\n",
        "`/`     Division\n",
        "\n",
        "`**`   Exponentiation\n",
        "\n",
        "`%`     Modulo (returns the remainder after a division). Example: 10 % 3 = 1\n",
        "\n",
        "`//`   Floor division (divides the first operand by the second operand and rounds the result down to the nearest integer. Example: 5 // 2 = 2\n",
        "\n",
        "`>`     Greater than (returns a Boolean of whether the left operand is greater than the right operand)\n",
        "\n",
        "`<`     Less than (returns a Boolean of whether the left operand is less than the right operand)\n",
        "\n",
        "`==`   Equality (returns a Boolean of whether the left operand is equal to the right operand)\n",
        "\n",
        "\n",
        "- Expressions: A combination of numbers, symbols, and variables to compute and return a result upon evaluation\n",
        "\n",
        "Example: `[1, 2, 3] + [2, 4, 6]`\n",
        "\n",
        "\n",
        "- Functions: A group of related statements to perform a task and return a value"
      ],
      "metadata": {
        "id": "BEGumrB6fIex"
      }
    },
    {
      "cell_type": "code",
      "execution_count": null,
      "metadata": {
        "id": "2o_lSwDrfEab"
      },
      "outputs": [],
      "source": [
        "# Examples\n",
        "\n",
        "12345\n",
        "def to_celsius(x):\n",
        "   '''Convert Fahrenheit to Celsius'''\n",
        "   return (x-32) * 5/9\n",
        "\n",
        "to_celsius(75)"
      ]
    },
    {
      "cell_type": "markdown",
      "source": [
        "- Conditional statements: Sections of code that direct program execution based on specified conditions"
      ],
      "metadata": {
        "id": "eCwfDEcTfUYg"
      }
    },
    {
      "cell_type": "code",
      "source": [
        "# Example:\n",
        "number = -4\n",
        "\n",
        "if number > 0:\n",
        "   print('Number is positive.')\n",
        "elif number == 0:\n",
        "   print('Number is zero.')\n",
        "else:\n",
        "   print('Number is negative.')"
      ],
      "metadata": {
        "colab": {
          "base_uri": "https://localhost:8080/"
        },
        "id": "0ZcaPsiMfYvg",
        "outputId": "5eeae554-dfd2-465e-c5e9-544b46406c3f"
      },
      "execution_count": null,
      "outputs": [
        {
          "output_type": "stream",
          "name": "stdout",
          "text": [
            "Number is negative.\n"
          ]
        }
      ]
    },
    {
      "cell_type": "markdown",
      "source": [
        "As you’ll surely discover, Python generates syntax errors for incorrectly used keywords and syntax.\n",
        "\n",
        "Example:"
      ],
      "metadata": {
        "id": "EKSKH4QnfXpd"
      }
    },
    {
      "cell_type": "code",
      "source": [
        "print(This will throw an error because I didn’t make it a string.)"
      ],
      "metadata": {
        "id": "Ws6__CIofjly"
      },
      "execution_count": null,
      "outputs": []
    },
    {
      "cell_type": "markdown",
      "source": [
        "### Naming rules and conventions\n",
        "When assigning names to objects, programmers adhere to a set of rules and conventions which help to standardize code and make it more accessible to everyone. Here are some naming rules and conventions that you should know:\n",
        "\n",
        "- Names cannot contain spaces.\n",
        "- Names may be a mixture of upper and lower case characters.\n",
        "- Names can’t start with a number but may contain numbers after the first character.\n",
        "- Variable names and function names should be written in snake_case, which means that all letters are lowercase and words are separated using an underscore.\n",
        "- Descriptive names are better than cryptic abbreviations because they help other programmers (and you) read and interpret your code. For example, student_name is better than sn. It may feel excessive when you write it, but when you return to your code you’ll find it much easier to understand."
      ],
      "metadata": {
        "id": "ZWGnHE0bfmnJ"
      }
    },
    {
      "cell_type": "markdown",
      "source": [
        "\n",
        "\n",
        "---\n",
        "\n",
        "\n",
        "Tim Peters, a Python programmer, wrote this now-famous “poem” of guiding principles for coding in Python:\n",
        "\n",
        "#### The Zen of Python\n",
        "Beautiful is better than ugly.\n",
        "\n",
        "Explicit is better than implicit.\n",
        "\n",
        "Simple is better than complex.\n",
        "\n",
        "Complex is better than complicated.\n",
        "\n",
        "Flat is better than nested.\n",
        "\n",
        "Sparse is better than dense.\n",
        "\n",
        "Readability counts.\n",
        "\n",
        "Special cases aren't special enough to break the rules.\n",
        "\n",
        "Although practicality beats purity.\n",
        "\n",
        "Errors should never pass silently.\n",
        "\n",
        "Unless explicitly silenced.\n",
        "\n",
        "In the face of ambiguity, refuse the temptation to guess.\n",
        "\n",
        "There should be one—and preferably only one—obvious way to do it.\n",
        "\n",
        "Although that way may not be obvious at first unless you're Dutch.\n",
        "\n",
        "Now is better than never.\n",
        "\n",
        "Although never is often better than right now.\n",
        "\n",
        "If the implementation is hard to explain, it's a bad idea.\n",
        "\n",
        "If the implementation is easy to explain, it may be a good idea.\n",
        "\n",
        "Namespaces are one honking great idea -- let's do more of those!"
      ],
      "metadata": {
        "id": "dSRoi754fqI0"
      }
    }
  ]
}