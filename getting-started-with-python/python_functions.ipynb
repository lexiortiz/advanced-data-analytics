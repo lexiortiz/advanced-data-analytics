{
  "nbformat": 4,
  "nbformat_minor": 0,
  "metadata": {
    "colab": {
      "provenance": [],
      "authorship_tag": "ABX9TyP9/7cXxMb/Q9L5psfY6FLH"
    },
    "kernelspec": {
      "name": "python3",
      "display_name": "Python 3"
    },
    "language_info": {
      "name": "python"
    }
  },
  "cells": [
    {
      "cell_type": "markdown",
      "source": [
        "# Function Syntax in Python\n",
        "\n",
        "### Defining Functions\n",
        "To define functions in Python, follow this syntax:\n",
        "\n",
        "1. **Begin with the `def` keyword** followed by the function name and parentheses containing its parameters/arguments, ending with a colon.  \n",
        "   - Use snake_case (lowercase words separated by underscores) for function names.\n",
        "\n",
        "2. **Include a docstring for important functions** or those whose purpose isn’t obvious.  \n",
        "   - The docstring should be written between triple quotes (`\"\"\"`).\n",
        "   - Write it as a command (e.g., \"Add two numbers\" instead of \"Adds two numbers\").\n",
        "   - Summarize the function's behavior and explain its arguments and return values.\n",
        "   - Indent the docstring four spaces from the `def` line.\n",
        "\n",
        "3. **Write the body of the function.**  \n",
        "   - Code should be indented at least four spaces from the `def` statement, and there may be more indentation based on complexity.\n",
        "\n",
        "4. **Use a return statement or print statement.**  \n",
        "   - The `return` statement provides a result that can be used elsewhere, whereas the `print` statement outputs something to the console.  \n",
        "   - Indent this line by four spaces.\n",
        "\n",
        "### `return` vs. `print`\n",
        "\n",
        "- A **`return` statement** gives you a result that can be used later. It's like your brother going to the market and bringing you potatoes.\n",
        "- A **`print` statement** just shows information on the console. It's like your brother telling you what potatoes were available but not bringing any back.\n",
        "\n",
        "### Functions vs. Methods\n",
        "\n",
        "- **Functions**: Standalone blocks of code that don't belong to any class.\n",
        "- **Methods**: A type of function that belongs to a class and can be used via dot notation.\n",
        "\n",
        "#### Example of a Method\n",
        "```python\n",
        "my_string = \"The eagles filled the sky.\"\n",
        "my_string.split()\n"
      ],
      "metadata": {
        "id": "1YdNooDUR0B6"
      }
    },
    {
      "cell_type": "markdown",
      "source": [
        "The split() method belongs to the string class and splits strings based on whitespace.\n",
        "\n",
        "Example of a Function"
      ],
      "metadata": {
        "id": "h5P3yKrOSAtK"
      }
    },
    {
      "cell_type": "code",
      "source": [
        "sum([6, 3])\n"
      ],
      "metadata": {
        "id": "Q630B-q9SE_G"
      },
      "execution_count": null,
      "outputs": []
    },
    {
      "cell_type": "markdown",
      "source": [
        "sum() is a standalone function that adds elements of an iterable (like a list)."
      ],
      "metadata": {
        "id": "ijHbLjcISG72"
      }
    }
  ]
}