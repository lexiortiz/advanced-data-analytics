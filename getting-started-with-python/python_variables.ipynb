{
  "nbformat": 4,
  "nbformat_minor": 0,
  "metadata": {
    "colab": {
      "provenance": [],
      "authorship_tag": "ABX9TyOfaeZIo609NucD8V22od6X"
    },
    "kernelspec": {
      "name": "python3",
      "display_name": "Python 3"
    },
    "language_info": {
      "name": "python"
    }
  },
  "cells": [
    {
      "cell_type": "markdown",
      "source": [
        "# Variables"
      ],
      "metadata": {
        "id": "rlq41r_jWE22"
      }
    },
    {
      "cell_type": "markdown",
      "source": [
        "### Introduction\n",
        "\n",
        "Variables give meaning to code. Think about nouns in language; nouns are used to identify people, places, or things in a sentence. Similarly, variables in Python act as placeholders that reference values in memory. They are not the values themselves but point to specific locations where data is stored.\n",
        "\n",
        "### Understanding Variables\n",
        "\n",
        "Key Concepts:\n",
        "\n",
        "- Variables point to values, not store them directly.\n",
        "- Example: X = 3 → X is the variable, and 3 is the value stored in memory.\n",
        "- Analogy: A variable is like a labeled container; the label identifies what’s inside without needing to see the contents."
      ],
      "metadata": {
        "id": "9B9EUDJ5RAr_"
      }
    },
    {
      "cell_type": "markdown",
      "source": [
        "### Data Types\n",
        "\n",
        "Variables can store values of various data types, including:\n",
        "\n",
        "- Strings (`str`)\n",
        "\n",
        "- Integers (`int`)\n",
        "\n",
        "- Floats (`float`)\n",
        "\n",
        "- Lists (`list`)\n",
        "\n",
        "- Dictionaries (`dict`)\n",
        "\n",
        "\n",
        "Python uses dynamic typing, meaning:\n",
        "\n",
        "Variables can store values of any type.\n",
        "Python automatically determines the data type.\n",
        "No explicit type declaration is required."
      ],
      "metadata": {
        "id": "r8OLN_T8V5p7"
      }
    },
    {
      "cell_type": "markdown",
      "source": [
        "Best Practices for Variable Naming\n",
        "When assigning a new variable, consider:\n",
        "\n",
        "1.) What's the variable's name?\n",
        "\n",
        "2.) What's the variable's type?\n",
        "\n",
        "3.) What's the variable's starting value?"
      ],
      "metadata": {
        "id": "0X7aybD8V7Bx"
      }
    },
    {
      "cell_type": "code",
      "execution_count": null,
      "metadata": {
        "id": "xXadO4Y9MjLa"
      },
      "outputs": [],
      "source": [
        "# Example\n",
        "age_list = [25, 30, 34, 28, 32]"
      ]
    },
    {
      "cell_type": "markdown",
      "source": [
        "- `age_list` is meaningful, unlike generic names like `X`.\n",
        "- Python dynamically assigns it as a `list` type."
      ],
      "metadata": {
        "id": "Jc-3Wde9VfXO"
      }
    },
    {
      "cell_type": "markdown",
      "source": [
        "### Assignments and Expressions\n",
        "\n",
        "- Assignment: Storing a value inside a variable.\n",
        "- Expression: A combination of numbers, symbols, or other variables that produce a result when evaluated.\n",
        "\n",
        "Example:"
      ],
      "metadata": {
        "id": "1wLGZ_GWW1Qu"
      }
    },
    {
      "cell_type": "code",
      "source": [
        "max_age = max(age_list)\n",
        "print(max_age)  # Output: 34"
      ],
      "metadata": {
        "id": "ZkhzI8YqQe8W"
      },
      "execution_count": null,
      "outputs": []
    },
    {
      "cell_type": "markdown",
      "source": [
        "- `max()` function finds the highest value in `age_list`.\n",
        "- `max_age` now holds `34`, an `integer`."
      ],
      "metadata": {
        "id": "Ranenni8XDbz"
      }
    },
    {
      "cell_type": "markdown",
      "source": [
        "### Modifying Variable Values\n",
        "\n",
        "You can convert data types using built-in functions:\n",
        "\n",
        "Example:"
      ],
      "metadata": {
        "id": "bkicR5KlXIuk"
      }
    },
    {
      "cell_type": "code",
      "source": [
        "max_age = str(max_age)  # Converts integer to string\n",
        "print(max_age)  # Output: '34'"
      ],
      "metadata": {
        "id": "9Djxyh8KXPZc"
      },
      "execution_count": null,
      "outputs": []
    },
    {
      "cell_type": "markdown",
      "source": [
        "- The `str()` function converts the integer 34 into a string.\n",
        "- The new data type is `string`, indicated by quotation marks."
      ],
      "metadata": {
        "id": "egSxBL1CXSP_"
      }
    },
    {
      "cell_type": "markdown",
      "source": [
        "### Reassigning Variables\n",
        "\n",
        "Variables are mutable and can be reassigned:\n",
        "\n",
        "Example:"
      ],
      "metadata": {
        "id": "VrClAKg_XXLq"
      }
    },
    {
      "cell_type": "code",
      "source": [
        "max_age = \"ninety-nine\"\n",
        "print(max_age)  # Output: 'ninety-nine'"
      ],
      "metadata": {
        "id": "-_ns-FocXaCG"
      },
      "execution_count": null,
      "outputs": []
    },
    {
      "cell_type": "markdown",
      "source": [
        "- The value of `max_age` has changed completely."
      ],
      "metadata": {
        "id": "wnw9XG4RXcnG"
      }
    },
    {
      "cell_type": "markdown",
      "source": [
        "### Order of Execution Matters\n",
        "\n",
        "In Jupyter Notebook, the order of cell execution affects variable values:\n",
        "\n",
        "If you re-run a previous cell, the variable resets to its original assignment.\n",
        "\n",
        "Example:"
      ],
      "metadata": {
        "id": "8Rq-kPMVXe6g"
      }
    },
    {
      "cell_type": "code",
      "source": [
        "print(max_age)  # Could output 'ninety-nine' or 34 depending on execution order"
      ],
      "metadata": {
        "id": "9TO7YbU1XhaS"
      },
      "execution_count": null,
      "outputs": []
    },
    {
      "cell_type": "markdown",
      "source": [
        "### Using Variables in Expressions\n",
        "\n",
        "Variables allow operations on stored values without hardcoding them.\n",
        "\n",
        "Example:"
      ],
      "metadata": {
        "id": "0iB0zP8MXk7L"
      }
    },
    {
      "cell_type": "code",
      "source": [
        "min_age = min(age_list)\n",
        "age_difference = max_age - min_age  # Error: max_age is now a string!"
      ],
      "metadata": {
        "id": "BRA3RhphXoJ0"
      },
      "execution_count": null,
      "outputs": []
    },
    {
      "cell_type": "markdown",
      "source": [
        "- Be mindful of variable types when performing operations."
      ],
      "metadata": {
        "id": "HNaqbJ53Xq76"
      }
    },
    {
      "cell_type": "markdown",
      "source": [
        "### Key Takeaways\n",
        "\n",
        "- Variables reference values in memory, not store them directly.\n",
        "- Python is dynamically typed; variables don’t need explicit type declarations.\n",
        "- Meaningful variable names improve code readability.\n",
        "- Order of execution matters in Jupyter Notebook.\n",
        "- Reassigning variables changes their values dynamically."
      ],
      "metadata": {
        "id": "iBiVhMhjXtgW"
      }
    }
  ]
}