{
  "nbformat": 4,
  "nbformat_minor": 0,
  "metadata": {
    "colab": {
      "provenance": [],
      "authorship_tag": "ABX9TyPRoCh6P0xdsVFf/O9438ih"
    },
    "kernelspec": {
      "name": "python3",
      "display_name": "Python 3"
    },
    "language_info": {
      "name": "python"
    }
  },
  "cells": [
    {
      "cell_type": "markdown",
      "source": [
        "# Glossary Terms from Module 1\n",
        "\n",
        "## Terms and Definitions from Course 2, Module 1\n",
        "\n",
        "- **Argument**: Information given to a function in its parentheses.  \n",
        "- **Assignment**: The process of storing a value in a variable.  \n",
        "- **Attribute**: A value associated with an object or class which is referenced by name using dot notation.  \n",
        "- **Cells**: The modular code input and output fields into which Jupyter Notebooks are partitioned.  \n",
        "- **Class**: An object’s data type that bundles data and functionality together.  \n",
        "- **Computer programming**: The process of giving instructions to a computer to perform an action or set of actions.  \n",
        "- **Data type**: An attribute that describes a piece of data based on its values, its programming language, or the operations it can perform.  \n",
        "- **Dot notation**: How to access the methods and attributes that belong to an instance of a class.  \n",
        "- **Dynamic typing**: Variables that can point to objects of any data type.  \n",
        "- **Explicit conversion**: The process of converting a data type of an object to a required data type.  \n",
        "- **Expression**: A combination of numbers, symbols, or other variables that produce a result when evaluated.  \n",
        "- **Float**: A data type that represents numbers that contain decimals.  \n",
        "- **Immutable data type**: A data type in which the values can never be altered or updated.  \n",
        "- **Implicit conversion**: The process Python uses to automatically convert one data type to another without user involvement.  \n",
        "- **Integer**: A data type used to represent whole numbers without fractions.  \n",
        "- **Jupyter Notebook**: An open-source web application for creating and sharing documents containing live code, mathematical formulas, visualizations, and text.  \n",
        "- **Keyword**: A special word in a programming language that is reserved for a specific purpose and that can only be used for that purpose.  \n",
        "- **Markdown**: A markup language that lets the user write formatted text in a coding environment or plain-text editor.  \n",
        "- **Method**: A function that belongs to a class and typically performs an action or operation.  \n",
        "- **Naming conventions**: Consistent guidelines that describe the content, creation date, and version of a file in its name.  \n",
        "- **Naming restrictions**: Rules built into the syntax of a programming language.  \n",
        "- **Object**: An instance of a class; a fundamental building block of Python.  \n",
        "- **Object-oriented programming**: A programming system that is based around objects which can contain both data and code that manipulates that data.  \n",
        "- **Programming languages**: The words and symbols used to write instructions for computers to follow.  \n",
        "- **String**: A sequence of characters and punctuation that contains textual information.  \n",
        "- **Syntax**: The structure of code words, symbols, placement, and punctuation.  \n",
        "- **Typecasting**: Converting data from one type to another (see explicit conversion).  \n",
        "- **Variable**: A named container which stores values in a reserved location in the computer’s memory.  \n"
      ],
      "metadata": {
        "id": "cmAKKo3vhYD6"
      }
    }
  ]
}