{
  "nbformat": 4,
  "nbformat_minor": 0,
  "metadata": {
    "colab": {
      "provenance": [],
      "authorship_tag": "ABX9TyM/Xky8AN8+Qm8CDV76bzOP"
    },
    "kernelspec": {
      "name": "python3",
      "display_name": "Python 3"
    },
    "language_info": {
      "name": "python"
    }
  },
  "cells": [
    {
      "cell_type": "markdown",
      "source": [
        "# Loops, Break, and Continue Statements  \n",
        "\n",
        "## While Loops  \n",
        "\n",
        "A **while loop** is a control structure that repeatedly executes a block of code as long as a specified condition is `True`. This allows for automation of repetitive tasks in programming.  \n",
        "\n",
        "### Syntax  "
      ],
      "metadata": {
        "id": "3GTw2egvukou"
      }
    },
    {
      "cell_type": "code",
      "source": [
        "while condition:\n",
        "    # Code block to execute"
      ],
      "metadata": {
        "id": "w-1W0uSgurir"
      },
      "execution_count": null,
      "outputs": []
    },
    {
      "cell_type": "markdown",
      "source": [
        "The loop evaluates the condition at the start of each iteration. If True, the block executes; otherwise, the loop terminates.\n",
        "\n",
        "Example"
      ],
      "metadata": {
        "id": "0e20tkITu0ql"
      }
    },
    {
      "cell_type": "code",
      "source": [
        "x = 1\n",
        "while x < 100:\n",
        "    print(x)\n",
        "    x = x * 2\n"
      ],
      "metadata": {
        "id": "qcpmZuHYvg_m"
      },
      "execution_count": null,
      "outputs": []
    },
    {
      "cell_type": "markdown",
      "source": [
        "## Infinite Loops  \n",
        "\n",
        "A logic or syntax error may cause a while loop to run indefinitely. If a variable controlling the loop is not updated properly, the condition will never become `False`, resulting in an **infinite loop**.  \n",
        "\n",
        "### Stopping an Infinite Loop  \n",
        "\n",
        "If a loop runs indefinitely, use one of the following methods to interrupt execution in a Jupyter Notebook:  \n",
        "\n",
        "- Click the **stop button** in the menu bar.  \n",
        "- Select **Kernel > Interrupt** from the menu.  \n",
        "- Press **`i` twice** while in command mode.  \n",
        "\n",
        "### `break` Statement  \n",
        "\n",
        "The `break` statement exits a loop immediately, regardless of whether the condition is still `True`.  \n",
        "\n",
        "#### Example  \n",
        "```python\n",
        "x = 1\n",
        "i = 0\n",
        "while x < 100:\n",
        "    if i == 5:\n",
        "        break\n",
        "    print(i, x)\n",
        "    x = x * 2\n",
        "    i += 1\n"
      ],
      "metadata": {
        "id": "jmVq0qFrvi9T"
      }
    },
    {
      "cell_type": "markdown",
      "source": [
        "This loop stops when i reaches 5, even if x is still less than 100.\n",
        "\n",
        "continue Statement\n",
        "The continue statement skips the rest of the current iteration and moves to the next one.\n",
        "\n",
        "Example"
      ],
      "metadata": {
        "id": "rrGxYwl5wIgR"
      }
    },
    {
      "cell_type": "code",
      "source": [
        "i = 0\n",
        "while i < 10:\n",
        "    if i % 3 != 0:\n",
        "        print(i)\n",
        "        i += 1\n",
        "        continue\n",
        "    i += 1\n"
      ],
      "metadata": {
        "id": "2jPod1UswJk5"
      },
      "execution_count": null,
      "outputs": []
    },
    {
      "cell_type": "markdown",
      "source": [
        "This loop prints numbers from 0 to 9, excluding those divisible by 3. If i is divisible by 3, continue skips the rest of the loop body and moves to the next iteration.\n",
        "\n",
        "## Key Takeaways\n",
        "- While loops execute a block of code while a condition is True.\n",
        "- Infinite loops occur when the condition never becomes False.\n",
        "- break exits a loop prematurely.\n",
        "- continue skips the rest of the current iteration and moves to the next."
      ],
      "metadata": {
        "id": "Smwir9qDwLyz"
      }
    }
  ]
}