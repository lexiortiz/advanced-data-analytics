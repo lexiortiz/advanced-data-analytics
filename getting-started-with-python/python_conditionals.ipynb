{
  "nbformat": 4,
  "nbformat_minor": 0,
  "metadata": {
    "colab": {
      "provenance": [],
      "authorship_tag": "ABX9TyPxEwG0DJm9T51XUjkbOhoG"
    },
    "kernelspec": {
      "name": "python3",
      "display_name": "Python 3"
    },
    "language_info": {
      "name": "python"
    }
  },
  "cells": [
    {
      "cell_type": "markdown",
      "source": [
        "# Conditional Statements in Python\n",
        "\n",
        "## Introduction\n",
        "Conditional statements are an essential part of programming. They allow you to control the flow of information based on certain conditions. In Python, `if`, `elif`, and `else` statements are used to implement conditional logic.  \n",
        "\n",
        "Using conditional statements to branch program execution is a core part of coding for most data professionals, so it’s important to understand how they work.\n",
        "\n",
        "---\n",
        "\n",
        "## Conditional Syntax\n",
        "Python provides built-in comparison and logical operators that help evaluate conditions in `if-elif-else` blocks. The basic syntax is:\n",
        "\n",
        "```python\n",
        "if condition1:\n",
        "    # block of code to execute if condition1 evaluates to True\n",
        "\n",
        "elif condition2:\n",
        "    # block of code to execute if condition1 is False\n",
        "    # and condition2 evaluates to True\n",
        "\n",
        "else:\n",
        "    # block of code to execute if BOTH condition1 and condition2 evaluate to False"
      ],
      "metadata": {
        "id": "it3NqiuOfziy"
      }
    },
    {
      "cell_type": "markdown",
      "source": [
        "condition1 and condition2 must evaluate to True or False.\n",
        "If the condition in the if statement is True, the block of code executes. Otherwise, the program checks the elif condition.\n",
        "The else statement runs only if all preceding conditions are False.\n",
        "\n",
        "Example:"
      ],
      "metadata": {
        "id": "p0Rl0CLRf6bC"
      }
    },
    {
      "cell_type": "code",
      "source": [
        "x = 8\n",
        "if x > 5:\n",
        "    print('x is greater than five')\n",
        "elif x < 5:\n",
        "    print('x is less than five')\n",
        "else:\n",
        "    print('x is equal to five')\n"
      ],
      "metadata": {
        "id": "Mte2MU1Nf_Tn"
      },
      "execution_count": null,
      "outputs": []
    },
    {
      "cell_type": "markdown",
      "source": [
        "Omitting else\n",
        "In many cases, an else statement is unnecessary. Consider this function:"
      ],
      "metadata": {
        "id": "e97rFhOegCnW"
      }
    },
    {
      "cell_type": "code",
      "source": [
        "def greater_than_ten(x):\n",
        "    if x > 10:\n",
        "        return True\n",
        "    else:\n",
        "        return False\n",
        "\n",
        "print(greater_than_ten(15))  # Output: True\n",
        "print(greater_than_ten(2))   # Output: False\n"
      ],
      "metadata": {
        "id": "PcZODN13gDk5"
      },
      "execution_count": null,
      "outputs": []
    },
    {
      "cell_type": "markdown",
      "source": [
        "This function can be simplified by removing else:\n"
      ],
      "metadata": {
        "id": "zJzm0dHegGNw"
      }
    },
    {
      "cell_type": "code",
      "source": [
        "def greater_than_ten(x):\n",
        "    if x > 10:\n",
        "        return True\n",
        "    return False\n",
        "\n",
        "print(greater_than_ten(15))  # Output: True\n",
        "print(greater_than_ten(2))   # Output: False\n"
      ],
      "metadata": {
        "id": "Ap2GK6O8gMuT"
      },
      "execution_count": null,
      "outputs": []
    },
    {
      "cell_type": "markdown",
      "source": [
        "Since return exits the function immediately, the else statement isn't required.\n",
        "\n",
        "Key Takeaways\n",
        "- The elif and else statements are optional.\n",
        "- You can have multiple elif statements.\n",
        "- There can only be one else statement, and it must be at the end.\n",
        "- Conditions must evaluate to True or False.\n",
        "- Indentation matters! Code inside conditionals must be properly indented (4 spaces is standard)."
      ],
      "metadata": {
        "id": "1KpGfOOIgR9z"
      }
    }
  ]
}