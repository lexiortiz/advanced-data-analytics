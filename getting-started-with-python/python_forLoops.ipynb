{
  "nbformat": 4,
  "nbformat_minor": 0,
  "metadata": {
    "colab": {
      "provenance": [],
      "authorship_tag": "ABX9TyMXmdyrTAmQkYkWBzFaZEMD"
    },
    "kernelspec": {
      "name": "python3",
      "display_name": "Python 3"
    },
    "language_info": {
      "name": "python"
    }
  },
  "cells": [
    {
      "cell_type": "markdown",
      "source": [
        "# For Loops\n",
        "\n",
        "For loops in Python iterate over elements of an iterable sequence, allowing you to perform actions on each iteration. Unlike while loops, which run until a condition is met, for loops iterate through a predefined collection.\n",
        "\n",
        "## For Loop Syntax\n",
        "\n",
        "A for loop executes a block of code for each element in an iterable sequence, such as:\n",
        "\n",
        "- **Strings**: `'chimichurri'`\n",
        "- **Lists**: `[1, 2, 3, 4, 5, 6]`\n",
        "- **Tuples**: `(1, 2, 3, 4, 5)`\n",
        "- **Dictionaries**: `{'Name': 'Anita', 'Age': 77}`\n",
        "- **Sets**: `{1, 4, 14, 33}`\n",
        "\n",
        "### Syntax Example:\n",
        "```python\n",
        "for item in iterable_sequence:\n",
        "    # Code block to execute\n"
      ],
      "metadata": {
        "id": "rey-10VZwm2h"
      }
    },
    {
      "cell_type": "markdown",
      "source": [
        "`iterable_sequence` can be any iterable data type.\n",
        "`item` is a variable that takes on each value of the iterable in turn."
      ],
      "metadata": {
        "id": "dGzmU-ZPwryv"
      }
    },
    {
      "cell_type": "code",
      "source": [
        "num = 5\n",
        "y = [1, 2, 3]\n",
        "for num in y:\n",
        "    print(num)\n",
        "\n",
        "print(num)\n"
      ],
      "metadata": {
        "id": "_vsPj3nHxbPd"
      },
      "execution_count": null,
      "outputs": []
    },
    {
      "cell_type": "markdown",
      "source": [
        "Here, `num` is reassigned on each iteration and retains its final value after the loop terminates.\n",
        "\n",
        "### The `range()` Function\n",
        "The `range()` function generates a sequence of numbers based on specified parameters:\n",
        "`range(start, stop, step)`, where:\n",
        "\n",
        "- `start` (default = 0): Beginning of range\n",
        "- `stop`: End of range (exclusive)\n",
        "- `step` (default = 1): Increment\n",
        "\n",
        "### Examples:"
      ],
      "metadata": {
        "id": "5vAsSFFVxcNL"
      }
    },
    {
      "cell_type": "code",
      "source": [
        "# (A) One Argument (Stop Value)\n",
        "for i in range(3):\n",
        "    print(i)\n",
        "\n",
        "# Output\n",
        "0\n",
        "1\n",
        "2\n",
        "\n",
        "# (B) Two Arguments (Start, Stop)\n",
        "for n in range(2, 5):\n",
        "    print(n)\n",
        "\n",
        "# Output:\n",
        "2\n",
        "3\n",
        "4\n",
        "\n",
        "# (C) Three Arguments (Start, Stop, Step)\n",
        "for even_num in range(2, 11, 2):\n",
        "    print(even_num)\n",
        "\n",
        "# Output:\n",
        "2\n",
        "4\n",
        "6\n",
        "8\n",
        "10"
      ],
      "metadata": {
        "id": "M-D42UDFycO6"
      },
      "execution_count": null,
      "outputs": []
    },
    {
      "cell_type": "markdown",
      "source": [
        "The `range()` function is useful when performing tasks a specific number of times or iterating over indices."
      ],
      "metadata": {
        "id": "wnOnfYPBzaYF"
      }
    },
    {
      "cell_type": "markdown",
      "source": [
        "## Nested Loops\n",
        "A nested loop is a loop inside another loop. This is useful for working with nested data structures like lists of lists.\n",
        "\n",
        "Example:"
      ],
      "metadata": {
        "id": "rlo-Vl1R0E9I"
      }
    },
    {
      "cell_type": "code",
      "source": [
        "students = [['Igor', 'Sokolov'], ['Riko', 'Miyazaki'], ['Tuva', 'Johansen']]\n",
        "for student in students:\n",
        "    for name in student:\n",
        "        print(name)\n",
        "    print()\n"
      ],
      "metadata": {
        "id": "E-AF5dc50F-K"
      },
      "execution_count": null,
      "outputs": []
    },
    {
      "cell_type": "markdown",
      "source": [
        "Output:"
      ],
      "metadata": {
        "id": "ybP9_Z2U0Jai"
      }
    },
    {
      "cell_type": "code",
      "source": [
        "Igor\n",
        "Sokolov\n",
        "\n",
        "Riko\n",
        "Miyazaki\n",
        "\n",
        "Tuva\n",
        "Johansen\n"
      ],
      "metadata": {
        "id": "6lonWUD40Ltv"
      },
      "execution_count": null,
      "outputs": []
    },
    {
      "cell_type": "markdown",
      "source": [
        "The outer loop iterates over the lists, and the inner loop iterates over each name.\n",
        "\n",
        "**Key Takeaways**\n",
        "- For loops iterate over elements in an iterable sequence.\n",
        "- The range() function creates a numerical sequence for iteration.\n",
        "- Nested loops allow iteration through multi-level structures.\n",
        "\n",
        "For loops are a powerful tool in Python, essential for data professionals working with structured data."
      ],
      "metadata": {
        "id": "-o-Mo0Ud0NrK"
      }
    }
  ]
}